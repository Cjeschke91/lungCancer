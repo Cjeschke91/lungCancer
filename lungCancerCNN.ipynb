{
 "metadata": {
  "name": "",
  "signature": "sha256:40eafaa9599b8656150ea00dec1bd44d34be2ea1fb3fcea6ca757762ee78b9b5"
 },
 "nbformat": 3,
 "nbformat_minor": 0,
 "worksheets": [
  {
   "cells": [
    {
     "cell_type": "code",
     "collapsed": false,
     "input": [
      "import dicom\n",
      "import math\n",
      "import scipy\n",
      "import matplotlib.pyplot as plt\n",
      "import numpy as np\n",
      "import csv\n",
      "import cv2\n",
      "import os\n",
      "import scipy.ndimage\n",
      "import pandas as pd # data processing, CSV file I/O (e.g. pd.read_csv)\n",
      "from skimage import measure, morphology\n",
      "from mpl_toolkits.mplot3d.art3d import Poly3DCollection\n",
      "\n",
      "from skimage.draw import polygon_perimeter\n",
      "import matplotlib.patches as patches\n",
      "\n",
      "from skimage.morphology import ball, disk, dilation, binary_erosion, remove_small_objects, erosion, closing, reconstruction, binary_closing\n",
      "from skimage.measure import label,regionprops, perimeter\n",
      "from skimage.morphology import binary_dilation, binary_opening\n",
      "from skimage.filters import roberts, sobel\n",
      "from skimage import measure, feature\n",
      "from skimage.segmentation import clear_border\n",
      "from skimage import data\n",
      "from scipy import ndimage as ndi\n",
      "\n",
      "import tensorflow as tf"
     ],
     "language": "python",
     "metadata": {},
     "outputs": [],
     "prompt_number": 1
    },
    {
     "cell_type": "code",
     "collapsed": false,
     "input": [
      "with open('kaggle_data/stage1_labels_temp.csv', mode='r') as infile:\n",
      "    reader = csv.reader(infile)\n",
      "    labels_dict = {rows[0]:rows[1] for rows in reader}"
     ],
     "language": "python",
     "metadata": {},
     "outputs": [],
     "prompt_number": 2
    },
    {
     "cell_type": "code",
     "collapsed": false,
     "input": [
      "import h5py\n",
      "from scipy import ndimage as nd\n",
      "file1 = h5py.File('/Volumes/Seagate_Backup_Plus_Drive/LungCancerResearch/hdf5_files_kaggle/segmented_lungs_1-899_100x100x100.h5','r')\n",
      "image_label_all = []\n",
      "patient_names_all = []\n",
      "\n",
      "for i in range(0,898):\n",
      "    if (i%10)==0:\n",
      "        print i\n",
      "    patient_id = file1.keys()[i]\n",
      "    dataset = file1[patient_id]\n",
      "    pix_resampled = zeros(dataset.shape)\n",
      "    try:\n",
      "        label = int(labels_dict[patient_id])\n",
      "    except:\n",
      "        label = 0\n",
      "    \n",
      "    if label == 1: \n",
      "        label=np.array([0,1])\n",
      "    elif label == 0: \n",
      "        label=np.array([1,0])\n",
      "    \n",
      "    for j in range(0,pix_resampled.shape[0]):\n",
      "        pix_resampled[j] = dataset[j]\n",
      "        \n",
      "    dsfactor = [w/float(f) for w,f in zip((50,50,50), pix_resampled.shape)]\n",
      "    pix_resampled = nd.interpolation.zoom(pix_resampled, zoom=dsfactor)\n",
      "    \n",
      "    image_label_all.append([pix_resampled,label])\n",
      "    patient_names_all.append(patient_id)\n",
      "\n",
      "print('DONE')\n",
      "file1.close()"
     ],
     "language": "python",
     "metadata": {},
     "outputs": [
      {
       "output_type": "stream",
       "stream": "stdout",
       "text": [
        "0\n",
        "10"
       ]
      },
      {
       "output_type": "stream",
       "stream": "stdout",
       "text": [
        "\n",
        "20"
       ]
      },
      {
       "output_type": "stream",
       "stream": "stdout",
       "text": [
        "\n",
        "30"
       ]
      },
      {
       "output_type": "stream",
       "stream": "stdout",
       "text": [
        "\n",
        "40"
       ]
      },
      {
       "output_type": "stream",
       "stream": "stdout",
       "text": [
        "\n",
        "50"
       ]
      },
      {
       "output_type": "stream",
       "stream": "stdout",
       "text": [
        "\n",
        "60"
       ]
      },
      {
       "output_type": "stream",
       "stream": "stdout",
       "text": [
        "\n",
        "70"
       ]
      },
      {
       "output_type": "stream",
       "stream": "stdout",
       "text": [
        "\n",
        "80"
       ]
      },
      {
       "output_type": "stream",
       "stream": "stdout",
       "text": [
        "\n",
        "90"
       ]
      },
      {
       "output_type": "stream",
       "stream": "stdout",
       "text": [
        "\n",
        "100"
       ]
      },
      {
       "output_type": "stream",
       "stream": "stdout",
       "text": [
        "\n",
        "110"
       ]
      },
      {
       "output_type": "stream",
       "stream": "stdout",
       "text": [
        "\n",
        "120"
       ]
      },
      {
       "output_type": "stream",
       "stream": "stdout",
       "text": [
        "\n",
        "130"
       ]
      },
      {
       "output_type": "stream",
       "stream": "stdout",
       "text": [
        "\n",
        "140"
       ]
      },
      {
       "output_type": "stream",
       "stream": "stdout",
       "text": [
        "\n",
        "150"
       ]
      },
      {
       "output_type": "stream",
       "stream": "stdout",
       "text": [
        "\n",
        "160"
       ]
      },
      {
       "output_type": "stream",
       "stream": "stdout",
       "text": [
        "\n",
        "170"
       ]
      },
      {
       "output_type": "stream",
       "stream": "stdout",
       "text": [
        "\n",
        "180"
       ]
      },
      {
       "output_type": "stream",
       "stream": "stdout",
       "text": [
        "\n",
        "190"
       ]
      },
      {
       "output_type": "stream",
       "stream": "stdout",
       "text": [
        "\n",
        "200"
       ]
      },
      {
       "output_type": "stream",
       "stream": "stdout",
       "text": [
        "\n",
        "210"
       ]
      },
      {
       "output_type": "stream",
       "stream": "stdout",
       "text": [
        "\n",
        "220"
       ]
      },
      {
       "output_type": "stream",
       "stream": "stdout",
       "text": [
        "\n",
        "230"
       ]
      },
      {
       "output_type": "stream",
       "stream": "stdout",
       "text": [
        "\n",
        "240"
       ]
      },
      {
       "output_type": "stream",
       "stream": "stdout",
       "text": [
        "\n",
        "250"
       ]
      },
      {
       "output_type": "stream",
       "stream": "stdout",
       "text": [
        "\n",
        "260"
       ]
      },
      {
       "output_type": "stream",
       "stream": "stdout",
       "text": [
        "\n",
        "270"
       ]
      },
      {
       "output_type": "stream",
       "stream": "stdout",
       "text": [
        "\n",
        "280"
       ]
      },
      {
       "output_type": "stream",
       "stream": "stdout",
       "text": [
        "\n",
        "290"
       ]
      },
      {
       "output_type": "stream",
       "stream": "stdout",
       "text": [
        "\n",
        "300"
       ]
      },
      {
       "output_type": "stream",
       "stream": "stdout",
       "text": [
        "\n",
        "310"
       ]
      },
      {
       "output_type": "stream",
       "stream": "stdout",
       "text": [
        "\n",
        "320"
       ]
      },
      {
       "output_type": "stream",
       "stream": "stdout",
       "text": [
        "\n",
        "330"
       ]
      },
      {
       "output_type": "stream",
       "stream": "stdout",
       "text": [
        "\n",
        "340"
       ]
      },
      {
       "output_type": "stream",
       "stream": "stdout",
       "text": [
        "\n",
        "350"
       ]
      },
      {
       "output_type": "stream",
       "stream": "stdout",
       "text": [
        "\n",
        "360"
       ]
      },
      {
       "output_type": "stream",
       "stream": "stdout",
       "text": [
        "\n",
        "370"
       ]
      },
      {
       "output_type": "stream",
       "stream": "stdout",
       "text": [
        "\n",
        "380"
       ]
      },
      {
       "output_type": "stream",
       "stream": "stdout",
       "text": [
        "\n",
        "390"
       ]
      },
      {
       "output_type": "stream",
       "stream": "stdout",
       "text": [
        "\n",
        "400"
       ]
      },
      {
       "output_type": "stream",
       "stream": "stdout",
       "text": [
        "\n",
        "410"
       ]
      },
      {
       "output_type": "stream",
       "stream": "stdout",
       "text": [
        "\n",
        "420"
       ]
      },
      {
       "output_type": "stream",
       "stream": "stdout",
       "text": [
        "\n",
        "430"
       ]
      },
      {
       "output_type": "stream",
       "stream": "stdout",
       "text": [
        "\n",
        "440"
       ]
      },
      {
       "output_type": "stream",
       "stream": "stdout",
       "text": [
        "\n",
        "450"
       ]
      },
      {
       "output_type": "stream",
       "stream": "stdout",
       "text": [
        "\n",
        "460"
       ]
      },
      {
       "output_type": "stream",
       "stream": "stdout",
       "text": [
        "\n",
        "470"
       ]
      },
      {
       "output_type": "stream",
       "stream": "stdout",
       "text": [
        "\n",
        "480"
       ]
      },
      {
       "output_type": "stream",
       "stream": "stdout",
       "text": [
        "\n",
        "490"
       ]
      },
      {
       "output_type": "stream",
       "stream": "stdout",
       "text": [
        "\n",
        "500"
       ]
      },
      {
       "output_type": "stream",
       "stream": "stdout",
       "text": [
        "\n",
        "510"
       ]
      },
      {
       "output_type": "stream",
       "stream": "stdout",
       "text": [
        "\n",
        "520"
       ]
      },
      {
       "output_type": "stream",
       "stream": "stdout",
       "text": [
        "\n",
        "530"
       ]
      },
      {
       "output_type": "stream",
       "stream": "stdout",
       "text": [
        "\n",
        "540"
       ]
      },
      {
       "output_type": "stream",
       "stream": "stdout",
       "text": [
        "\n",
        "550"
       ]
      },
      {
       "output_type": "stream",
       "stream": "stdout",
       "text": [
        "\n",
        "560"
       ]
      },
      {
       "output_type": "stream",
       "stream": "stdout",
       "text": [
        "\n",
        "570"
       ]
      },
      {
       "output_type": "stream",
       "stream": "stdout",
       "text": [
        "\n",
        "580"
       ]
      },
      {
       "output_type": "stream",
       "stream": "stdout",
       "text": [
        "\n",
        "590"
       ]
      },
      {
       "output_type": "stream",
       "stream": "stdout",
       "text": [
        "\n",
        "600"
       ]
      },
      {
       "output_type": "stream",
       "stream": "stdout",
       "text": [
        "\n",
        "610"
       ]
      },
      {
       "output_type": "stream",
       "stream": "stdout",
       "text": [
        "\n",
        "620"
       ]
      },
      {
       "output_type": "stream",
       "stream": "stdout",
       "text": [
        "\n",
        "630"
       ]
      },
      {
       "output_type": "stream",
       "stream": "stdout",
       "text": [
        "\n",
        "640"
       ]
      },
      {
       "output_type": "stream",
       "stream": "stdout",
       "text": [
        "\n",
        "650"
       ]
      },
      {
       "output_type": "stream",
       "stream": "stdout",
       "text": [
        "\n",
        "660"
       ]
      },
      {
       "output_type": "stream",
       "stream": "stdout",
       "text": [
        "\n",
        "670"
       ]
      },
      {
       "output_type": "stream",
       "stream": "stdout",
       "text": [
        "\n",
        "680"
       ]
      },
      {
       "output_type": "stream",
       "stream": "stdout",
       "text": [
        "\n",
        "690"
       ]
      },
      {
       "output_type": "stream",
       "stream": "stdout",
       "text": [
        "\n",
        "700"
       ]
      },
      {
       "output_type": "stream",
       "stream": "stdout",
       "text": [
        "\n",
        "710"
       ]
      },
      {
       "output_type": "stream",
       "stream": "stdout",
       "text": [
        "\n",
        "720"
       ]
      },
      {
       "output_type": "stream",
       "stream": "stdout",
       "text": [
        "\n",
        "730"
       ]
      },
      {
       "output_type": "stream",
       "stream": "stdout",
       "text": [
        "\n",
        "740"
       ]
      },
      {
       "output_type": "stream",
       "stream": "stdout",
       "text": [
        "\n",
        "750"
       ]
      },
      {
       "output_type": "stream",
       "stream": "stdout",
       "text": [
        "\n",
        "760"
       ]
      },
      {
       "output_type": "stream",
       "stream": "stdout",
       "text": [
        "\n",
        "770"
       ]
      },
      {
       "output_type": "stream",
       "stream": "stdout",
       "text": [
        "\n",
        "780"
       ]
      },
      {
       "output_type": "stream",
       "stream": "stdout",
       "text": [
        "\n",
        "790"
       ]
      },
      {
       "output_type": "stream",
       "stream": "stdout",
       "text": [
        "\n",
        "800"
       ]
      },
      {
       "output_type": "stream",
       "stream": "stdout",
       "text": [
        "\n",
        "810"
       ]
      },
      {
       "output_type": "stream",
       "stream": "stdout",
       "text": [
        "\n",
        "820"
       ]
      },
      {
       "output_type": "stream",
       "stream": "stdout",
       "text": [
        "\n",
        "830"
       ]
      },
      {
       "output_type": "stream",
       "stream": "stdout",
       "text": [
        "\n",
        "840"
       ]
      },
      {
       "output_type": "stream",
       "stream": "stdout",
       "text": [
        "\n",
        "850"
       ]
      },
      {
       "output_type": "stream",
       "stream": "stdout",
       "text": [
        "\n",
        "860"
       ]
      },
      {
       "output_type": "stream",
       "stream": "stdout",
       "text": [
        "\n",
        "870"
       ]
      },
      {
       "output_type": "stream",
       "stream": "stdout",
       "text": [
        "\n",
        "880"
       ]
      },
      {
       "output_type": "stream",
       "stream": "stdout",
       "text": [
        "\n",
        "890"
       ]
      },
      {
       "output_type": "stream",
       "stream": "stdout",
       "text": [
        "\n",
        "DONE"
       ]
      },
      {
       "output_type": "stream",
       "stream": "stdout",
       "text": [
        "\n"
       ]
      }
     ],
     "prompt_number": 3
    },
    {
     "cell_type": "code",
     "collapsed": false,
     "input": [
      "plt.imshow(image_label_all[0][0][25], cmap='gray')"
     ],
     "language": "python",
     "metadata": {},
     "outputs": [
      {
       "metadata": {},
       "output_type": "pyout",
       "prompt_number": 5,
       "text": [
        "<matplotlib.image.AxesImage at 0x149ebfa10>"
       ]
      },
      {
       "metadata": {},
       "output_type": "display_data",
       "png": "[encoded data removed]",
       "text": [
        "<matplotlib.figure.Figure at 0x120077e50>"
       ]
      }
     ],
     "prompt_number": 5
    },
    {
     "cell_type": "code",
     "collapsed": false,
     "input": [
      "import tensorflow as tf\n",
      "import numpy as np\n",
      "\n",
      "IMG_SIZE_PX = 50\n",
      "SLICE_COUNT = 50\n",
      "\n",
      "n_classes = 2\n",
      "batch_size = 10\n",
      "\n",
      "x = tf.placeholder('float')\n",
      "y = tf.placeholder('float')\n",
      "\n",
      "keep_rate = 0.8"
     ],
     "language": "python",
     "metadata": {},
     "outputs": [],
     "prompt_number": 19
    },
    {
     "cell_type": "code",
     "collapsed": false,
     "input": [
      "def conv3d(x, W):\n",
      "    return tf.nn.conv3d(x, W, strides=[1,1,1,1,1], padding='SAME')\n",
      "\n",
      "def maxpool3d(x):\n",
      "    #                        size of window         movement of window as you slide about\n",
      "    return tf.nn.max_pool3d(x, ksize=[1,2,2,2,1], strides=[1,2,2,2,1], padding='SAME')"
     ],
     "language": "python",
     "metadata": {},
     "outputs": [],
     "prompt_number": 20
    },
    {
     "cell_type": "code",
     "collapsed": false,
     "input": [
      "def convolutional_neural_network(x):\n",
      "    #                # 5 x 5 x 5 patches, 1 channel, 32 features to compute.\n",
      "    weights = {'W_conv1':tf.Variable(tf.random_normal([5,5,5,1,32])),\n",
      "               #       5 x 5 x 5 patches, 32 channels, 64 features to compute.\n",
      "               'W_conv2':tf.Variable(tf.random_normal([5,5,5,32,64])),\n",
      "               #                                  64 features\n",
      "               'W_fc':tf.Variable(tf.random_normal([140608,1024])),\n",
      "               'out':tf.Variable(tf.random_normal([1024, n_classes]))}\n",
      "\n",
      "    biases = {'b_conv1':tf.Variable(tf.random_normal([32])),\n",
      "               'b_conv2':tf.Variable(tf.random_normal([64])),\n",
      "               'b_fc':tf.Variable(tf.random_normal([1024])),\n",
      "               'out':tf.Variable(tf.random_normal([n_classes]))}\n",
      "\n",
      "    #                            image X      image Y        image Z\n",
      "    x = tf.reshape(x, shape=[-1, IMG_SIZE_PX, IMG_SIZE_PX, SLICE_COUNT, 1])\n",
      "\n",
      "    conv1 = tf.nn.relu(conv3d(x, weights['W_conv1']) + biases['b_conv1'])\n",
      "    conv1 = maxpool3d(conv1)\n",
      "\n",
      "\n",
      "    conv2 = tf.nn.relu(conv3d(conv1, weights['W_conv2']) + biases['b_conv2'])\n",
      "    conv2 = maxpool3d(conv2)\n",
      "\n",
      "    fc = tf.reshape(conv2,[-1, 140608])\n",
      "    fc = tf.nn.relu(tf.matmul(fc, weights['W_fc'])+biases['b_fc'])\n",
      "    fc = tf.nn.dropout(fc, keep_rate)\n",
      "\n",
      "    output = tf.matmul(fc, weights['out'])+biases['out']\n",
      "\n",
      "    return output"
     ],
     "language": "python",
     "metadata": {},
     "outputs": [],
     "prompt_number": 21
    },
    {
     "cell_type": "code",
     "collapsed": false,
     "input": [
      "train_data = image_label_all[0:628]\n",
      "validation_data = image_label_all[629:898]"
     ],
     "language": "python",
     "metadata": {},
     "outputs": [],
     "prompt_number": 22
    },
    {
     "cell_type": "code",
     "collapsed": false,
     "input": [
      "plt.imshow(train_data[0][0][25],cmap='gray')"
     ],
     "language": "python",
     "metadata": {},
     "outputs": [
      {
       "metadata": {},
       "output_type": "pyout",
       "prompt_number": 23,
       "text": [
        "<matplotlib.image.AxesImage at 0x183597910>"
       ]
      },
      {
       "metadata": {},
       "output_type": "display_data",
       "png": "[encoded data removed]",
       "text": [
        "<matplotlib.figure.Figure at 0x15797e110>"
       ]
      }
     ],
     "prompt_number": 23
    },
    {
     "cell_type": "code",
     "collapsed": false,
     "input": [
      "def train_neural_network(x):\n",
      "    prediction = convolutional_neural_network(x)\n",
      "    cost = tf.reduce_mean( tf.nn.softmax_cross_entropy_with_logits(prediction,y) )\n",
      "    optimizer = tf.train.AdamOptimizer(learning_rate=1e-3).minimize(cost)\n",
      "    \n",
      "    hm_epochs = 10\n",
      "    with tf.Session() as sess:\n",
      "        sess.run(tf.initialize_all_variables())\n",
      "        \n",
      "        successful_runs = 0\n",
      "        total_runs = 0\n",
      "        \n",
      "        for epoch in range(hm_epochs):\n",
      "            epoch_loss = 0\n",
      "            for data in train_data:\n",
      "                total_runs += 1\n",
      "                print total_runs\n",
      "#                try:\n",
      "                X = data[0]\n",
      "                Y = data[1]\n",
      "                tempb = Y[0]\n",
      "                tempc = Y[1]\n",
      "                temp = np.array([[Y[0], Y[1]]])\n",
      "                Y = temp\n",
      "                \n",
      "                _, c = sess.run([optimizer, cost], feed_dict={x: X, y: Y})\n",
      "\n",
      "                epoch_loss += c\n",
      "                successful_runs += 1\n",
      "#                except Exception as e:\n",
      "                    # I am passing for the sake of notebook space, but we are getting 1 shaping issue from one \n",
      "                    # input tensor. Not sure why, will have to look into it. Guessing it's\n",
      "                    # one of the depths that doesn't come to 20.\n",
      "#                    pass\n",
      "                    #print(str(e))\n",
      "            \n",
      "            print('Epoch', epoch+1, 'completed out of',hm_epochs,'loss:',epoch_loss)\n",
      "\n",
      "            correct = tf.equal(tf.argmax(prediction, 1), tf.argmax(y, 1))\n",
      "            accuracy = tf.reduce_mean(tf.cast(correct, 'float'))\n",
      "\n",
      "            print('Accuracy:',accuracy.eval({x:[i[0] for i in validation_data], y:[i[1] for i in validation_data]}))\n",
      "            \n",
      "        print('Done. Finishing accuracy:')\n",
      "        print('Accuracy:',accuracy.eval({x:[i[0] for i in validation_data], y:[i[1] for i in validation_data]}))\n",
      "        \n",
      "        print('fitment percent:',successful_runs/total_runs)"
     ],
     "language": "python",
     "metadata": {},
     "outputs": [],
     "prompt_number": 24
    },
    {
     "cell_type": "code",
     "collapsed": false,
     "input": [
      "train_neural_network(x)"
     ],
     "language": "python",
     "metadata": {},
     "outputs": []
    },
    {
     "cell_type": "code",
     "collapsed": false,
     "input": [
      "print tf.__version__"
     ],
     "language": "python",
     "metadata": {},
     "outputs": [
      {
       "output_type": "stream",
       "stream": "stdout",
       "text": [
        "0.9.0\n"
       ]
      }
     ],
     "prompt_number": 17
    },
    {
     "cell_type": "code",
     "collapsed": false,
     "input": [],
     "language": "python",
     "metadata": {},
     "outputs": []
    }
   ],
   "metadata": {}
  }
 ]
}